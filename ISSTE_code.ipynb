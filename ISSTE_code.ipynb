{
 "cells": [
  {
   "cell_type": "markdown",
   "id": "afcf7f94",
   "metadata": {},
   "source": [
    "# Crear el dataset sobre personoas pensionadas en méxico"
   ]
  },
  {
   "cell_type": "markdown",
   "id": "35bbb990",
   "metadata": {},
   "source": [
    "## Vamos a importar las librerias que sean necesarias para crear el conjnto de datos del ISSTE"
   ]
  },
  {
   "cell_type": "code",
   "execution_count": 2,
   "id": "12b42b3b",
   "metadata": {},
   "outputs": [],
   "source": [
    "import requests\n",
    "import pandas as pd\n",
    "from io import StringIO\n",
    "pd.set_option('display.float_format', '{:,.2f}'.format)\n",
    "pd.set_option('display.max_columns', None)"
   ]
  },
  {
   "cell_type": "markdown",
   "id": "413f0d05",
   "metadata": {},
   "source": [
    "## Definimos la función para obtener los datos de la página (opcional descargalos)"
   ]
  },
  {
   "cell_type": "code",
   "execution_count": null,
   "id": "145108a2",
   "metadata": {},
   "outputs": [],
   "source": [
    "def bajar_datos():  \n",
    "    url = \"https://www.issste.gob.mx/datosabiertos/pensionadosdirectos.txt\"\n",
    "\n",
    "    response = requests.get(url)\n",
    "    response.encoding = 'utf-8'\n",
    "\n",
    "    data = StringIO(response.text)\n",
    "    df = pd.read_csv(data, sep=\"\\t\", dtype=str) \n",
    "    \n",
    "    #df.to_csv('ISSSTE_data.csv', index=False)  #Opcional: guardar el archivo CSV localmente\n",
    "    return df"
   ]
  },
  {
   "cell_type": "markdown",
   "id": "c293e926",
   "metadata": {},
   "source": [
    "## Función para limpiar los datos"
   ]
  },
  {
   "cell_type": "code",
   "execution_count": 17,
   "id": "d2f84cc4",
   "metadata": {},
   "outputs": [],
   "source": [
    "def limpiar_datos(df):\n",
    "    df.drop(columns=['anio','mes','primer_ramo', 'primer_ramo_des', 'ult_ramo','ult_ramo_des','nombre','paterno', 'materno','ent_pen','alta_nomina','importe_pen',\n",
    "                'sexo','tiempo_serv','ent_pen_des','ent_pago','tip_pen_act','tip_pen_org','tip_pen_org_des','porcentaje','tip_pen_act','tip_pen_act_des','importe_msm'], inplace=True)\n",
    "    \n",
    "    df.dropna(inplace=True)\n",
    "    \n",
    "    df = df[df['primera_fecha'] >= '1959-12-30']\n",
    "    df = df[df['primera_fecha'] < df['ult_fecha']]\n",
    "\n",
    "    df['primera_fecha'] = pd.to_datetime(df['primera_fecha'])\n",
    "    df['ult_fecha'] = pd.to_datetime(df['ult_fecha'])\n",
    "    df['fecha_inidi'] = pd.to_datetime(df['fecha_inidi'])\n",
    "\n",
    "    df['ent_pago_des'] = df['ent_pago_des'].str.replace('DELEGACION ESTATAL EN ','')\n",
    "    df['ent_pago_des'] = df['ent_pago_des'].str.replace('DELEGACION EN LA ZONA ','')\n",
    "    df['ent_pago_des'] = df['ent_pago_des'].str.replace('DEL D.F.','DE LA CDMX')\n",
    "\n",
    "    antes = df[df['primera_fecha'] < '1997-07-01']\n",
    "    antes.reset_index(drop=True, inplace=True)\n",
    "    despues = df[df['primera_fecha'] >= '1997-07-01']\n",
    "    despues.reset_index(drop=True, inplace=True)\n",
    "\n",
    "    return antes, despues   "
   ]
  },
  {
   "cell_type": "markdown",
   "id": "10abfb92",
   "metadata": {},
   "source": [
    "## La función principal"
   ]
  },
  {
   "cell_type": "code",
   "execution_count": null,
   "id": "055a1f53",
   "metadata": {},
   "outputs": [],
   "source": [
    "if __name__ == \"__main__\":\n",
    "    df = bajar_datos()\n",
    "    #df = pd.read_csv('ISSSTE_data.csv')   # Si lo tienes guardado localmente\n",
    "    antes, despues = limpiar_datos(df)\n",
    "    antes.to_csv('antes_del_97.csv', index=False)\n",
    "    despues.to_csv('despues_del_97.csv', index=False)"
   ]
  },
  {
   "cell_type": "code",
   "execution_count": null,
   "id": "6c010e84",
   "metadata": {},
   "outputs": [],
   "source": []
  }
 ],
 "metadata": {
  "kernelspec": {
   "display_name": "Python 3",
   "language": "python",
   "name": "python3"
  },
  "language_info": {
   "codemirror_mode": {
    "name": "ipython",
    "version": 3
   },
   "file_extension": ".py",
   "mimetype": "text/x-python",
   "name": "python",
   "nbconvert_exporter": "python",
   "pygments_lexer": "ipython3",
   "version": "3.13.3"
  }
 },
 "nbformat": 4,
 "nbformat_minor": 5
}
