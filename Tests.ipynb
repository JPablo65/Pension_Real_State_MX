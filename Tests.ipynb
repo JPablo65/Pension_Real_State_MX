{
 "cells": [
  {
   "cell_type": "code",
   "execution_count": null,
   "metadata": {},
   "outputs": [],
   "source": [
    "import requests\n",
    "import pandas as pd\n",
    "from io import StringIO\n",
    "import requests\n",
    "import json"
   ]
  },
  {
   "cell_type": "markdown",
   "metadata": {},
   "source": [
    "# Base del ISSTE o esa cosa"
   ]
  },
  {
   "cell_type": "code",
   "execution_count": null,
   "metadata": {},
   "outputs": [],
   "source": [
    "# URL del archivo\n",
    "url = \"https://www.issste.gob.mx/datosabiertos/pensionadosdirectos.txt\"\n",
    "\n",
    "# Descargar el archivo\n",
    "response = requests.get(url)\n",
    "response.encoding = 'utf-8'  # Asegurar codificación correcta\n",
    "\n",
    "# Convertir el contenido a un DataFrame\n",
    "data = StringIO(response.text)\n",
    "df = pd.read_csv(data, sep=\"\\t\", dtype=str)  # Usar tabulación como separador\n",
    "df.shape"
   ]
  },
  {
   "cell_type": "code",
   "execution_count": null,
   "metadata": {},
   "outputs": [],
   "source": [
    "def hipoteca(propiedad, ahorros_est, t):\n",
    "    url = \"https://integrations.clau.com/api/multicotizador\"\n",
    "\n",
    "    payload = json.dumps({\n",
    "    \"property_price\": 3100000,\n",
    "    \"savings\": 310000,\n",
    "    \"term\": 15,\n",
    "    \"program\": \"Tradicional\"\n",
    "    })\n",
    "    headers = {\n",
    "    'accept': '*/*',\n",
    "    'accept-language': 'en,es;q=0.9,es-ES;q=0.8,en-GB;q=0.7,en-US;q=0.6,es-MX;q=0.5,es-US;q=0.4',\n",
    "    'content-type': 'application/json',\n",
    "    'origin': 'https://www.clau.com',\n",
    "    'priority': 'u=1, i',\n",
    "    'referer': 'https://www.clau.com/',\n",
    "    'sec-ch-ua': '\"Not(A:Brand\";v=\"99\", \"Microsoft Edge\";v=\"133\", \"Chromium\";v=\"133\"',\n",
    "    'sec-ch-ua-mobile': '?0',\n",
    "    'sec-ch-ua-platform': '\"Windows\"',\n",
    "    'sec-fetch-dest': 'empty',\n",
    "    'sec-fetch-mode': 'cors',\n",
    "    'sec-fetch-site': 'same-site',\n",
    "    'user-agent': 'Mozilla/5.0 (Windows NT 10.0; Win64; x64) AppleWebKit/537.36 (KHTML, like Gecko) Chrome/133.0.0.0 Safari/537.36 Edg/133.0.0.0'\n",
    "    }\n",
    "\n",
    "    r = requests.request(\"POST\", url, headers=headers, data=payload)\n",
    "\n",
    "    print(json.loads(r.text))"
   ]
  }
 ],
 "metadata": {
  "language_info": {
   "name": "python"
  }
 },
 "nbformat": 4,
 "nbformat_minor": 2
}
