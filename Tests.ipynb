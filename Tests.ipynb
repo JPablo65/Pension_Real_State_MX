{
  "cells": [
    {
      "cell_type": "code",
      "execution_count": 1,
      "metadata": {
        "id": "VQZoJ7BgON6b"
      },
      "outputs": [],
      "source": [
        "import requests\n",
        "import pandas as pd\n",
        "from io import StringIO\n",
        "import requests\n",
        "import json"
      ]
    },
    {
      "cell_type": "markdown",
      "metadata": {
        "id": "3b0SRb7WON6e"
      },
      "source": [
        "# Base del ISSTE o esa cosa"
      ]
    },
    {
      "cell_type": "code",
      "execution_count": 2,
      "metadata": {
        "id": "-soVhauTON6g"
      },
      "outputs": [
        {
          "data": {
            "text/plain": [
              "(1022421, 29)"
            ]
          },
          "execution_count": 2,
          "metadata": {},
          "output_type": "execute_result"
        }
      ],
      "source": [
        "url = \"https://www.issste.gob.mx/datosabiertos/pensionadosdirectos.txt\"\n",
        "\n",
        "response = requests.get(url)\n",
        "response.encoding = 'utf-8'\n",
        "\n",
        "data = StringIO(response.text)\n",
        "df = pd.read_csv(data, sep=\"\\t\", dtype=str) \n",
        "df.shape"
      ]
    },
    {
      "cell_type": "code",
      "execution_count": 3,
      "metadata": {},
      "outputs": [],
      "source": [
        "df.to_csv('isste_data.csv', index=False)"
      ]
    },
    {
      "cell_type": "code",
      "execution_count": 4,
      "metadata": {
        "id": "5nkNhn6AON6i"
      },
      "outputs": [],
      "source": [
        "def cal_hipoteca(prop_price, ahorros_est, t):\n",
        "    url = \"https://integrations.clau.com/api/multicotizador\"\n",
        "\n",
        "    payload = json.dumps({\n",
        "    \"property_price\": prop_price,\n",
        "    \"savings\": ahorros_est,\n",
        "    \"term\": t,\n",
        "    \"program\": \"Tradicional\"\n",
        "    })\n",
        "    headers = {\n",
        "    'accept': '*/*',\n",
        "    'accept-language': 'en,es;q=0.9,es-ES;q=0.8,en-GB;q=0.7,en-US;q=0.6,es-MX;q=0.5,es-US;q=0.4',\n",
        "    'content-type': 'application/json',\n",
        "    'origin': 'https://www.clau.com',\n",
        "    'priority': 'u=1, i',\n",
        "    'referer': 'https://www.clau.com/',\n",
        "    'sec-ch-ua': '\"Not(A:Brand\";v=\"99\", \"Microsoft Edge\";v=\"133\", \"Chromium\";v=\"133\"',\n",
        "    'sec-ch-ua-mobile': '?0',\n",
        "    'sec-ch-ua-platform': '\"Windows\"',\n",
        "    'sec-fetch-dest': 'empty',\n",
        "    'sec-fetch-mode': 'cors',\n",
        "    'sec-fetch-site': 'same-site',\n",
        "    'user-agent': 'Mozilla/5.0 (Windows NT 10.0; Win64; x64) AppleWebKit/537.36 (KHTML, like Gecko) Chrome/133.0.0.0 Safari/537.36 Edg/133.0.0.0'\n",
        "    }\n",
        "\n",
        "    r = requests.request(\"POST\", url, headers=headers, data=payload)\n",
        "\n",
        "    data = json.loads(r.text)\n",
        "    hipotecas = []\n",
        "    for aux in data:\n",
        "        hipotecas.append([\n",
        "            aux['costos_y_financiamiento'],\n",
        "            aux['valor_del_inmueble'],\n",
        "            aux['promocion_comision_x_apertura'],\n",
        "            aux['comision_por_apertura'],\n",
        "            aux['amarra_tu_tasa__citi_'],\n",
        "            aux['gastos_notariales__2_'],\n",
        "            aux['promocion_avaluo'],\n",
        "            aux['avaluo'],\n",
        "            aux['monto_total_inversion'],\n",
        "            aux['infonavit'],\n",
        "            aux['monto_del_credito_solicitado'],\n",
        "            aux['recursos_propios__enganche___gastos_'],\n",
        "            aux['monto_solicitado'],\n",
        "            aux['monto_del_credito_'],\n",
        "            aux['aforo'],\n",
        "            aux['tasa__3_'],\n",
        "            aux['cat'],\n",
        "            aux['plazo__anos_'],\n",
        "            aux['esquema'],\n",
        "            aux['mensualidad_inicial'],\n",
        "            aux['mensualidad_final'],\n",
        "            aux['mensualidad_promedio'],\n",
        "            aux['pago_por_millon_promedio'],\n",
        "            aux['ingreso_mensual_requerido']\n",
        "        ])\n",
        "    return hipotecas"
      ]
    },
    {
      "cell_type": "code",
      "execution_count": null,
      "metadata": {},
      "outputs": [],
      "source": []
    }
  ],
  "metadata": {
    "colab": {
      "provenance": []
    },
    "kernelspec": {
      "display_name": "Python 3",
      "name": "python3"
    },
    "language_info": {
      "name": "python"
    }
  },
  "nbformat": 4,
  "nbformat_minor": 0
}
