{
 "cells": [
  {
   "cell_type": "code",
   "execution_count": null,
   "metadata": {},
   "outputs": [],
   "source": [
    "import requests\n",
    "import pandas as pd\n",
    "from io import StringIO\n",
    "import requests\n",
    "import json"
   ]
  },
  {
   "cell_type": "markdown",
   "metadata": {},
   "source": [
    "# Base del ISSTE o esa cosa"
   ]
  },
  {
   "cell_type": "code",
   "execution_count": null,
   "metadata": {},
   "outputs": [],
   "source": [
    "# URL del archivo\n",
    "url = \"https://www.issste.gob.mx/datosabiertos/pensionadosdirectos.txt\"\n",
    "\n",
    "# Descargar el archivo\n",
    "response = requests.get(url)\n",
    "response.encoding = 'utf-8'  # Asegurar codificación correcta\n",
    "\n",
    "# Convertir el contenido a un DataFrame\n",
    "data = StringIO(response.text)\n",
    "df = pd.read_csv(data, sep=\"\\t\", dtype=str)  # Usar tabulación como separador\n",
    "df.shape"
   ]
  }
 ],
 "metadata": {
  "language_info": {
   "name": "python"
  }
 },
 "nbformat": 4,
 "nbformat_minor": 2
}
