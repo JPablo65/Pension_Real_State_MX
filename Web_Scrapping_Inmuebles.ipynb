{
 "cells": [
  {
   "cell_type": "markdown",
   "id": "681c9487",
   "metadata": {},
   "source": [
    "# Crear el dataset con los precios de los inmuebles por estado"
   ]
  },
  {
   "cell_type": "markdown",
   "id": "ab1ae1bf",
   "metadata": {},
   "source": [
    "## Vamos a importar las librerias necesarias"
   ]
  },
  {
   "cell_type": "code",
   "execution_count": 1,
   "id": "4be29b24",
   "metadata": {},
   "outputs": [],
   "source": [
    "import requests\n",
    "import json\n",
    "import pandas as pd\n",
    "import numpy as np\n",
    "pd.set_option('display.float_format', '{:,.2f}'.format)"
   ]
  },
  {
   "cell_type": "markdown",
   "id": "56d9f56b",
   "metadata": {},
   "source": [
    "## La función que se mete a la api de centrury 21 y la lista de precios de todos los inmubeles a la venta"
   ]
  },
  {
   "cell_type": "code",
   "execution_count": 2,
   "id": "300692dd",
   "metadata": {},
   "outputs": [],
   "source": [
    "def extraer_precio(url):\n",
    "    headers = {\n",
    "    'User-Agent': 'Mozilla/5.0 (Windows NT 10.0; Win64; x64; rv:138.0) Gecko/20100101 Firefox/138.0',\n",
    "    'Accept': 'application/json, text/plain, */*',\n",
    "    'Accept-Language': 'es-ES,es;q=0.8,en-US;q=0.5,en;q=0.3',\n",
    "    'Accept-Encoding': 'gzip, deflate, br, zstd',\n",
    "    'Connection': 'keep-alive',\n",
    "    'Referer': 'https://century21mexico.com/v/resultados/en-pais_mexico/en-estado_ciudad-de-mexico',\n",
    "    'Sec-Fetch-Dest': 'empty',\n",
    "    'Sec-Fetch-Mode': 'cors',\n",
    "    'Sec-Fetch-Site': 'same-origin',\n",
    "    'TE': 'trailers'\n",
    "    }\n",
    "\n",
    "    r = requests.request(\"GET\", url, headers=headers)\n",
    "    data = json.loads(r.text)\n",
    "    data = data['results']\n",
    "    precios = []\n",
    "    for inmueble in data:\n",
    "        precios.append(inmueble['precios']['vista']['precio'])\n",
    "    return precios"
   ]
  },
  {
   "cell_type": "markdown",
   "id": "6009f40b",
   "metadata": {},
   "source": [
    "## Función axuiliar para consultar la api y no perder el formato del data set del ISSSTE"
   ]
  },
  {
   "cell_type": "code",
   "execution_count": 3,
   "id": "ed0d9568",
   "metadata": {},
   "outputs": [],
   "source": [
    "def transformar_estados(estados):\n",
    "    estados_transformados = {}\n",
    "    for estado in estados:\n",
    "        estado_transformado = estado.lower().replace(' ', '-').replace('el-', '')\n",
    "        if 'cdmx' in estado_transformado:\n",
    "            estado_transformado = 'ciudad-de-mexico'\n",
    "        estados_transformados[estado] = estado_transformado\n",
    "    return estados_transformados"
   ]
  },
  {
   "cell_type": "markdown",
   "id": "31f79dd5",
   "metadata": {},
   "source": [
    "## La función principal"
   ]
  },
  {
   "cell_type": "code",
   "execution_count": null,
   "id": "0d0eaf66",
   "metadata": {},
   "outputs": [],
   "source": [
    "if __name__ == \"__main__\":\n",
    "    estados = ['SUR DE LA CDMX', 'ORIENTE DE LA CDMX', 'OAXACA', 'SONORA',\n",
    "        'EL ESTADO DE MEXICO', 'VERACRUZ', 'GUANAJUATO', 'SAN LUIS POTOSI',\n",
    "        'HIDALGO', 'CAMPECHE', 'SINALOA', 'TLAXCALA', 'MORELOS',\n",
    "        'MICHOACAN', 'JALISCO', 'PONIENTE DE LA CDMX', 'TAMAULIPAS',\n",
    "        'DURANGO', 'GUERRERO', 'BAJA CALIFORNIA SUR', 'PUEBLA',\n",
    "        'NUEVO LEON', 'CHIHUAHUA', 'NORTE DE LA CDMX', 'NAYARIT',\n",
    "        'BAJA CALIFORNIA', 'QUINTANA ROO', 'COAHUILA', 'CHIAPAS',\n",
    "        'ZACATECAS', 'YUCATAN', 'TABASCO', 'QUERETARO', 'AGUASCALIENTES',\n",
    "        'COLIMA']\n",
    "\n",
    "    diccionario = transformar_estados(estados)\n",
    "    resultados = []\n",
    "    for estado in estados:\n",
    "        url = f\"https://century21mexico.com/v/resultados/operacion_venta/en-pais_mexico/en-estado_{diccionario[estado]}?json=true\"\n",
    "        precios_estado = extraer_precio(url)\n",
    "\n",
    "        if precios_estado:\n",
    "            precios_np = np.array(precios_estado, dtype=float)\n",
    "            q25 = np.percentile(precios_np, 25)\n",
    "            q50 = np.percentile(precios_np, 50)\n",
    "            q75 = np.percentile(precios_np, 75)\n",
    "\n",
    "            resultados.append({\n",
    "                \"estado\": estado,\n",
    "                \"q25\": q25,\n",
    "                \"q50\": q50,\n",
    "                \"q75\": q75\n",
    "            })\n",
    "\n",
    "\n",
    "    df = pd.DataFrame(resultados)\n",
    "    df.to_csv(\"Precios_por_estado.csv\", index=False)"
   ]
  }
 ],
 "metadata": {
  "kernelspec": {
   "display_name": "Python 3",
   "language": "python",
   "name": "python3"
  },
  "language_info": {
   "codemirror_mode": {
    "name": "ipython",
    "version": 3
   },
   "file_extension": ".py",
   "mimetype": "text/x-python",
   "name": "python",
   "nbconvert_exporter": "python",
   "pygments_lexer": "ipython3",
   "version": "3.13.3"
  }
 },
 "nbformat": 4,
 "nbformat_minor": 5
}
